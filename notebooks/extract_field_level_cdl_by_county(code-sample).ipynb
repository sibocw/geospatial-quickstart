{
 "cells": [
  {
   "cell_type": "markdown",
   "id": "7635bb10",
   "metadata": {},
   "source": [
    "1. Put all paths, variables that are subjective to changes based on user needs to the beginning of your code or create a separate config.py file for them. People don't want to spend time to go deep in your code and find those paths one by one."
   ]
  },
  {
   "cell_type": "code",
   "execution_count": 16,
   "id": "54f08914",
   "metadata": {},
   "outputs": [],
   "source": [
    "import geopandas as gpd\n",
    "import numpy as np\n",
    "import rasterio \n",
    "import rasterio.mask\n",
    "from shapely.geometry import mapping\n",
    "\n",
    "\n",
    "#from config import *\n",
    "\n",
    "CDL_FMT = 'data/CDL/fips_{fips}/{year}/CDL_{year}.tif'\n",
    "FIELD_BOUNDARY_FMT = 'data/field_boundary/hb-{fips}/hb-{fips}.shp'\n",
    "\n",
    "fips = '17019'\n",
    "years = range(2017,2022)\n"
   ]
  },
  {
   "cell_type": "markdown",
   "id": "3f1ab32b",
   "metadata": {},
   "source": [
    "2. Add function definition for each of the function/class you wrote.\n",
    "3. Add proper comments to: (1) describe a complicated logic, (2) summarize a subsection of code.\n",
    "4. Optimize your code. (1) avoid loops, and try to use built-in functions to maximize performances. (2) Eliminate duplications of codes. (3) Delete unnecessary logging, printing in your code.\n",
    "5. Naming of variables should be clear, and should not cause confusion."
   ]
  },
  {
   "cell_type": "code",
   "execution_count": 17,
   "id": "7638d2c4",
   "metadata": {},
   "outputs": [],
   "source": [
    "def extract_field_cdl(fips,years):\n",
    "    \"\"\"Extract crop type for all fields in target county using CDL.\n",
    "        Parameters:\n",
    "            fips (string): county fips code.\n",
    "            years (int years): crop years needed.\n",
    "        return:\n",
    "            crop_type (dictionary): year -> unique_fid -> crop code\n",
    "    \"\"\"\n",
    "    \n",
    "    field_df = gpd.read_file(FIELD_BOUNDARY_FMT.format(fips=fips))\n",
    "    \n",
    "    crop_type = {}\n",
    "    \n",
    "    for year in years:\n",
    "        crop_type[year] ={}\n",
    "        cdl_ds =  rasterio.open(CDL_FMT.format(fips=fips,year=year))\n",
    "        #Make sure your vector file crs is the same as your raster file cr\n",
    "        if(field_df.crs != cdl_ds.crs):\n",
    "            field_df = field_df.to_crs(cdl_ds.crs)\n",
    "        \n",
    "        #Iterate through fields to extract crop type.\n",
    "        for i,row in field_df.iterrows():\n",
    "            masked_cdl,_ = rasterio.mask.mask(cdl_ds,[mapping(row.geometry)], crop=True, nodata=0) #0 is not used in CDL so we can use it as nodata values for pixels outside field boundary\n",
    "            masked_cdl = masked_cdl[0]\n",
    "            masked_cdl = masked_cdl[masked_cdl!=0]\n",
    "            crop_type[year][row['unique_fid']] = np.argmax(np.bincount(masked_cdl)) #Take mode\n",
    "            \n",
    "    return crop_type"
   ]
  },
  {
   "cell_type": "code",
   "execution_count": 18,
   "id": "33b0d35f",
   "metadata": {},
   "outputs": [],
   "source": [
    "ct = extract_field_cdl(fips,years)"
   ]
  }
 ],
 "metadata": {
  "kernelspec": {
   "display_name": "Python 3 (ipykernel)",
   "language": "python",
   "name": "python3"
  },
  "language_info": {
   "codemirror_mode": {
    "name": "ipython",
    "version": 3
   },
   "file_extension": ".py",
   "mimetype": "text/x-python",
   "name": "python",
   "nbconvert_exporter": "python",
   "pygments_lexer": "ipython3",
   "version": "3.9.13"
  }
 },
 "nbformat": 4,
 "nbformat_minor": 5
}
