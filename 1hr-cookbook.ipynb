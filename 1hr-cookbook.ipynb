{
 "cells": [
  {
   "cell_type": "markdown",
   "metadata": {},
   "source": [
    "# 1-hour Geospatial Data Processing Cookbook\n",
    "\n",
    "Sibo Wang (sibowsb ᎪᎢ gmail ᎠОᎢ com)  \n",
    "May 13, 2019"
   ]
  },
  {
   "cell_type": "markdown",
   "metadata": {},
   "source": [
    "## What is this?\n",
    "This is a quick start guide for working with geospatial data. I wrote part of this tutorial myself, and used contents from open source guides and tutorials elsewhere for some other parts (see sources and licenses in individual sections).\n",
    "\n",
    "This document works the best for those with some background in computer science but no experience in handling geospatial data. For those readers, it's my intension that following this tutorial should take roughly 1 hour. I assume the readers are fluent in Python, are familiar with NumPy, Pandas, and Matplotlib, and are able to navigate through a UNIX system through Bash.\n",
    "\n",
    "The materials included in this document, as well as the structure of it, are largely based on my personal experience and my works at NRES/NCSA/CS at UIUC. They might not suit everybody's needs."
   ]
  },
  {
   "cell_type": "markdown",
   "metadata": {},
   "source": [
    "## Software/libraries used in this tutorial\n",
    "\n",
    "- [Python](https://www.python.org/)\n",
    "- [NumPy](https://www.numpy.org/)\n",
    "- [RasterIO](https://github.com/mapbox/rasterio)\n",
    "- [GeoPandas](http://geopandas.org/)\n",
    "- [Matplotlib](https://matplotlib.org/)\n",
    "- [QGIS](https://www.qgis.org) (This is a desktop program for visualization purposes)\n",
    "\n",
    "If you install the above-mentioned libraries using a package manager (eg. Conda), the following libraries should have been installed as prerequisites as well:\n",
    "- [Pandas](https://pandas.pydata.org/)\n",
    "- [Shapely](https://github.com/Toblerity/Shapely)\n",
    "- [PyProj](https://github.com/pyproj4/pyproj)\n",
    "- [affine](https://github.com/sgillies/affine)\n",
    "- [OSGeo](https://www.osgeo.org/) (a family of packages including GDAL, OGR, etc.)\n",
    "\n",
    "The versions of my installation of these libraries are:"
   ]
  },
  {
   "cell_type": "code",
   "execution_count": 1,
   "metadata": {},
   "outputs": [
    {
     "name": "stdout",
     "output_type": "stream",
     "text": [
      "Python 3.7.2\r\n"
     ]
    }
   ],
   "source": [
    "!python -V"
   ]
  },
  {
   "cell_type": "code",
   "execution_count": 1,
   "metadata": {},
   "outputs": [
    {
     "name": "stdout",
     "output_type": "stream",
     "text": [
      "numpy: 1.15.4\n",
      "rasterio: 1.0.13\n",
      "geopandas: 0.4.0\n",
      "matplotlib: 3.0.2\n",
      "pandas: 0.24.1\n",
      "shapely: 1.6.4.post1\n",
      "pyproj: 1.9.6\n",
      "affine: 2.2.2\n",
      "osgeo: 2.3.3\n"
     ]
    }
   ],
   "source": [
    "import numpy as np\n",
    "import rasterio\n",
    "import geopandas as gpd\n",
    "import matplotlib\n",
    "import matplotlib.pyplot as plt\n",
    "import pandas as pd\n",
    "import shapely\n",
    "import pyproj\n",
    "import affine\n",
    "import osgeo\n",
    "\n",
    "for module in [np, rasterio, gpd, matplotlib, pd, shapely, pyproj, affine, osgeo]:\n",
    "    print('%s: %s' % (module.__name__, module.__version__))"
   ]
  },
  {
   "cell_type": "markdown",
   "metadata": {},
   "source": [
    "I'm using QGIS 3.4.4-Madeira for Mac.\n",
    "\n",
    "If you are using different versions, you may find incompatibilities, in which case you may need to Google the solution yourself. "
   ]
  },
  {
   "cell_type": "markdown",
   "metadata": {},
   "source": [
    "## Types of geospatial data (raster vs vector)\n",
    "\n",
    "There is a [very good explaination](https://gis.stackexchange.com/a/57170) of this topic on GIS StackExchange by `JamesS` (license: [CC BY-SA 3.0](https://creativecommons.org/licenses/by-sa/3.0/)):\n",
    "\n",
    "> In GIS, vector and raster are two different ways of representing spatial data. However, the distinction between vector and raster data types is not unique to GIS: [here](https://helpx.adobe.com/photoshop-elements/key-concepts/raster-vector.html) is an example from the graphic design world which might be clearer.\n",
    ">\n",
    "> Raster data is made up of pixels (or cells), and each pixel has an associated value. Simplifying slightly, a digital photograph is an example of a raster dataset where each pixel value corresponds to a particular colour. In GIS, the pixel values may represent elevation above sea level, or chemical concentrations, or rainfall etc. The key point is that all of this data is represented as a grid of (usually square) cells. The difference between a digital elevation model (DEM) in GIS and a digital photograph is that the DEM includes additional information describing where the edges of the image are located in the real world, together with how big each cell is on the ground. This means that your GIS can position your raster images (DEM, hillshade, slope map etc.) correctly relative to one another, and this allows you to build up your map.\n",
    ">\n",
    "> Vector data consists of individual points, which (for 2D data) are stored as pairs of (x, y) co-ordinates. The points may be joined in a particular order to create lines, or joined into closed rings to create polygons, but all vector data fundamentally consists of lists of co-ordinates that define vertices, together with rules to determine whether and how those vertices are joined.\n",
    ">\n",
    "> Note that whereas raster data consists of an array of regularly spaced cells, the points in a vector dataset need not be regularly spaced.\n",
    ">\n",
    "> In many cases, both vector and raster representations of the same data are possible:\n",
    "> ![](https://i.stack.imgur.com/mO0tU.png)\n",
    "> At this scale, there is very little difference between the vector representation and the \"fine\" (small pixel size) raster representation. However, if you zoomed in closely, you'd see the polygon edges of the fine raster would start to become pixelated, whereas the vector representation would remain crisp. In the \"coarse\" raster the pixelation is already clearly visible, even at this scale.  \n",
    ">\n",
    "> Vector and raster datasets have different strengths and weaknesses, some of which are described in the thread linked to by @wetland. When performing GIS analysis, it's important to think about the most appropriate data format for your needs. In particular, careful use of raster algebra can often produce results much, much faster than the equivalent vector workflow.\n",
    "\n",
    "In the end, the format of data largely depends on the nature of your content. For example, if you want to specify the geometry of some farms or mark the location of some ground sensors, using a vector dataset is a good idea. If you want to present some property of the entire landscape (for example, if you want to display the broadband albedo or some vegetation index of a county), you probably want to use a raster map. However, if you want to present the same albedo or VI data for each farm, you may want to go back to a vector dataset with the attributes attached to each polygon geometry.\n",
    "\n",
    "The most popular format for georeferenced raster image is GeoTiff (`.tif` or `.tiff`). Other formats include JPEG2000 (`.jp2`, used by Sentinel 2), Band Interleaved by Line (`.bil`, used by PRISM climate data), etc. The most popular format for georeferenced vector data is ESRI Shapefile (`.shp` accompanied by several other files with different extensions). I think Shapefile is outdated and shouldn't be used anymore (see [arguments here](http://switchfromshapefile.org/)). As an alternative I've been using GeoPackage (`.gpkg`) for a while and it's been quite satisfactory so far in terms of reading/writing speed, convinience of use, and compatibility with common existing programs. Other common vector file formats include GeoJSON (`.json` or `.geojson`), SpatiaLite, etc.\n",
    "\n",
    "### Typical data sources\n",
    "\n",
    "The followings are some typical vector/raster open-access datasets. Disclaimer: I haven't used all these data myself—I only selected them for demo purposes.\n",
    "\n",
    "#### Vector datasets\n",
    "- [US county boundaries](https://catalog.data.gov/dataset/tiger-line-shapefile-2017-nation-u-s-current-county-and-equivalent-national-shapefile)\n",
    "- [Global river network map](http://gaia.geosci.unc.edu/rivers/)\n",
    "\n",
    "#### Raster datasets\n",
    "- [Cropland Data Layer (CDL)](https://nassgeodata.gmu.edu/CropScape/): this gives the land cover type of each 30m-by-30m grid of CONUS.\n",
    "- [US Census Grids](https://sedac.ciesin.columbia.edu/data/collection/usgrid): this gives data such as total population of each grid of the US.\n",
    "- [ASTER Global Digital Elevation Model (GDEM)](https://asterweb.jpl.nasa.gov/gdem.asp): this gives the altitude of each grid of the earth."
   ]
  },
  {
   "cell_type": "markdown",
   "metadata": {},
   "source": [
    "## Georeferencing\n",
    "\n",
    "### Projection / Coordinate Reference System (CRS)\n",
    "\n",
    "Drawing a 3D earth on a 2D surface without some sort of distortion is impossible. Therefore, we use map projections, aka. Coordinate Reference Systems (CRS), to translate positions on a 3D sphere to a 2D map. From [Wikipedia](https://en.wikipedia.org/wiki/Map_projection):\n",
    "> A map projection is a systematic transformation of the latitudes and longitudes of locations from the surface of a sphere or an ellipsoid into locations on a plane ... Depending on the purpose of the map, some distortions are acceptable and others are not; therefore, different map projections exist in order to preserve some properties of the sphere-like body at the expense of other properties. There is no limit to the number of possible map projections.\n",
    "\n",
    "[This site](https://map-projections.net/singleview.php) visualizes some map projections systems (license: [CC BY-SA 4.0](https://creativecommons.org/licenses/by-sa/4.0/)). A screenshot of the website is attached below. As you can see, different projections introduce very different distortions. For example, the Mercator projection preserves north (every vertical line in the map is a meridian) but the area at higher latitudes is quite exagerated; the Waterman Butterfly projection preserves shape and area relatively well but it's just weird.\n",
    "![](./figures/map-projections-net.png)\n",
    "\n",
    "There are several ways to represent a CRS; some common ones are:\n",
    "- EPSG code: most common projections have an EPSG code. For example, UTM 16 North is `EPSG:32616`. If your favorite CRS has an EPSG code, it is perhaps the easiest way to serialize that it. If it doesn't, you might as well find a different favorite CRS. Note that not all EPSG codes are associated projections—they can also mean different things. For example, `EPSG:8901` is the Prime Meridian, and `EPSG:6326` is the World Geodetic System 1984. You can look up all EPSG codes from [epsg.io](https://epsg.io/), from which you can export alternative representations of the CRS in many other systems.\n",
    "- PROJ.4 string: CRS's can also be represented by a PROJ.4 string. For example, UTM 16 North is serialized as \n",
    "```\n",
    "+proj=utm +zone=16 +datum=WGS84 +units=m +no_defs\n",
    "```\n",
    "- Well Known Text (WKT): WKT is another system of serializing a CRS as an ASCII string. For example, UTM 16 North in WKT is \n",
    "```\n",
    "PROJCS[\"WGS 84 / UTM zone 16N\",\n",
    "    GEOGCS[\"WGS 84\",\n",
    "        DATUM[\"WGS_1984\",\n",
    "            SPHEROID[\"WGS 84\",6378137,298.257223563,\n",
    "                AUTHORITY[\"EPSG\",\"7030\"]],\n",
    "            AUTHORITY[\"EPSG\",\"6326\"]],\n",
    "        PRIMEM[\"Greenwich\",0,\n",
    "            AUTHORITY[\"EPSG\",\"8901\"]],\n",
    "        UNIT[\"degree\",0.0174532925199433,\n",
    "            AUTHORITY[\"EPSG\",\"9122\"]],\n",
    "        AUTHORITY[\"EPSG\",\"4326\"]],\n",
    "    PROJECTION[\"Transverse_Mercator\"],\n",
    "    PARAMETER[\"latitude_of_origin\",0],\n",
    "    PARAMETER[\"central_meridian\",-87],\n",
    "    PARAMETER[\"scale_factor\",0.9996],\n",
    "    PARAMETER[\"false_easting\",500000],\n",
    "    PARAMETER[\"false_northing\",0],\n",
    "    UNIT[\"metre\",1,\n",
    "        AUTHORITY[\"EPSG\",\"9001\"]],\n",
    "    AXIS[\"Easting\",EAST],\n",
    "    AXIS[\"Northing\",NORTH],\n",
    "    AUTHORITY[\"EPSG\",\"32616\"]]\n",
    "```\n",
    "\n",
    "I found some projection systems particularly useful:\n",
    "- World Geodetic System 1984 (or WGS84, [`EPSG:4326`](https://epsg.io/4326)): it's a simple CRS where the x unit is just the longitude and the y unit is just the latitude. It's the CRS used in GPS. One disadvantage is that if you plot maps with WGS84, the map will appear out-of-proportion (things will look wider in the east-west direction).\n",
    "- Mercator ([`EPSG:3857`](https://epsg.io/3857)): it's used in Google Maps, along with many other online map services. It preserves angles and people are used to it, although there're [political arguments against it](http://publish.illinois.edu/globalcurrents/2013/10/16/world-maps-and-worldview-social-and-political-implications/).\n",
    "- Universal Transverse Mercator (or UTM, see more information [here](https://gisgeography.com/utm-universal-transverse-mercator-projection/)): UTM is not one, but 120 map projections. It segments the earth into 60 zones, each of a 6° longitude range. It further segements each zone into a northern section and a southern section, making up 120 sections in total. For example, Champaign-Urbana, Illinois is in UTM 16 North ([`EPSG:32616`](https://epsg.io/32616)). For each section, UTM uses a cylindrical projection centered at the central meridian of that section. The advantage is that distortion within each zone is very small; the disadvantage is that there are 120 of them.\n",
    "- US National Atlas Equal Area ([`EPSG:2163`](https://epsg.io/2163)): it just looks really nice to me when visualizing CONUS.\n",
    "\n",
    "### Transformation (for raster datasets only)\n",
    "For vector datasets, having the CRS will be the whole of georeferencing. As we said, vector datasets are essentially collections or point coordinates structured as polygons, groups of polygons (or multipolygons), lines, or just points. If we know the CRS, we will know how to translate the x-y coordinates on the 2D map back into latitude-longitude pairs of the earth's spherical surface.\n",
    "\n",
    "However, for raster datasets, it's more complecated. Raster maps (or at least individual bands of them) are essentially a 2D arrays. To know where they correspond to on the earth, you need to know how this 2D grid lays on the earth's surface. To achieve that, we need three things:\n",
    "- CRS, obviously\n",
    "- The origin coordinate of the image—that is, what's the physical coordinate of pixel (0,0).\n",
    "- The size of each pixel in units of its CRS. Note that a pixel does not have to be square. Also note that if you reproject a pixel into a different CRS, the pixel may not be rectangular at all, so the pixel size is strictly in the unit of its own CRS.\n",
    "\n",
    "So, in addition to CRS, we use \"transformation\" to represent the latter two properties. Here, a \"transformation\" is 6-tuple specifying an affine transformation. For the pixel on row (or \"line\", in GDAL's language) `l`, column (or \"pixel\", in GDAL's language) `p` of the image, the coordinate (`Xp`, `Yp`), in units of the given CRS, of that pixel is:\n",
    "```Python\n",
    "Xp = transform[0] + p * transform[1] + l * transform[2]\n",
    "Yp = transform[3] + p * transform[4] + l * transform[5]\n",
    "```\n",
    "where `transform` is the GDAL-style 6-tuple representation of the transformation. In RasterIO, this is implemented using the [`affine` package](https://github.com/sgillies/affine). In most cases where each pixel is a square, the order of this 6-tuple is (pixel size, 0,  origin, 0, pixel size, y origin). Note that the pixel size might be negative in sign, depending on the direction of positive x/y in the specific CRS. The actual implementation of this 6-tuple might be a 9-tuple, in which case just ignore the last three elements, which should always be (0, 0, 1)."
   ]
  },
  {
   "cell_type": "markdown",
   "metadata": {},
   "source": [
    "## Reading and writing raster data\n",
    "\n",
    "Using RasterIO, loading raster data is easy. We will use this dataset as an example:\n",
    "> Center for International Earth Science Information Network - CIESIN - Columbia University. 2017. U.S. Census Grids (Summary File 1), 2010. Palisades, NY: NASA Socioeconomic Data and Applications Center (SEDAC). https://doi.org/10.7927/H40Z716C. Accessed May 14, 2019.\n",
    "\n",
    "To load the Illinois population GeoTiff file from:"
   ]
  },
  {
   "cell_type": "code",
   "execution_count": 56,
   "metadata": {},
   "outputs": [],
   "source": [
    "ds = rasterio.open('data/ilpop10.tif')"
   ]
  },
  {
   "cell_type": "markdown",
   "metadata": {},
   "source": [
    "To get some metadata of the file:"
   ]
  },
  {
   "cell_type": "code",
   "execution_count": 57,
   "metadata": {},
   "outputs": [
    {
     "name": "stdout",
     "output_type": "stream",
     "text": [
      "CRS: +init=epsg:4326\n",
      "Transformation:\n",
      "| 0.01, 0.00,-91.52|\n",
      "| 0.00,-0.01, 42.52|\n",
      "| 0.00, 0.00, 1.00|\n",
      "Image size: 666 by 483\n",
      "Number of bands: 1\n",
      "Data type: float32\n",
      "NODATA: -407649103380480.0\n"
     ]
    }
   ],
   "source": [
    "print('CRS: %s' % ds.crs)\n",
    "print('Transformation:\\n%s' % str(ds.transform))\n",
    "print('Image size: %d by %d' % (ds.height, ds.width))\n",
    "print('Number of bands: %d' % ds.count)\n",
    "print('Data type: %s' % ds.dtypes)\n",
    "print('NODATA: %s' % ds.nodata)    # this is a special value denoting that no data is available at a pixel\n",
    "full_metadata = ds.meta.copy()    # copy the full metadata as a dictionary"
   ]
  },
  {
   "cell_type": "markdown",
   "metadata": {},
   "source": [
    "`rasterio.open` only reads the metadata of the file. To read the actual raster data of it, use the `.read` method of the dataset:"
   ]
  },
  {
   "cell_type": "code",
   "execution_count": 16,
   "metadata": {},
   "outputs": [
    {
     "name": "stdout",
     "output_type": "stream",
     "text": [
      "(1, 666, 483)\n"
     ]
    }
   ],
   "source": [
    "data = ds.read()\n",
    "print(data.shape)"
   ]
  },
  {
   "cell_type": "markdown",
   "metadata": {},
   "source": [
    "The block of code above reads all bands of the image. A 3D numpy array with shape (number of bands, height, width) is returned. You can also read a single band using `ds.read(band_idx)` (note that `band_idx` is 1-indexed following GDAL convention):"
   ]
  },
  {
   "cell_type": "code",
   "execution_count": 17,
   "metadata": {},
   "outputs": [
    {
     "name": "stdout",
     "output_type": "stream",
     "text": [
      "(666, 483)\n"
     ]
    }
   ],
   "source": [
    "data = ds.read(1)\n",
    "print(data.shape)"
   ]
  },
  {
   "cell_type": "markdown",
   "metadata": {},
   "source": [
    "Remember to close the dataset so that you don't run out of file descriptors:"
   ]
  },
  {
   "cell_type": "code",
   "execution_count": 18,
   "metadata": {},
   "outputs": [],
   "source": [
    "ds.close()"
   ]
  },
  {
   "cell_type": "markdown",
   "metadata": {},
   "source": [
    "Alternatively, you can use the Python context syntax—no need to close the dataset explicitly:"
   ]
  },
  {
   "cell_type": "code",
   "execution_count": 29,
   "metadata": {},
   "outputs": [],
   "source": [
    "with rasterio.open('data/ilpop10.tif') as ds:\n",
    "    # do things on ds\n",
    "    data = ds.read(1)\n",
    "\n",
    "# Now, `ds` should have been closed automatically."
   ]
  },
  {
   "cell_type": "markdown",
   "metadata": {},
   "source": [
    "Now, let's just plot the population density map on a log scale:"
   ]
  },
  {
   "cell_type": "code",
   "execution_count": 41,
   "metadata": {},
   "outputs": [
    {
     "data": {
      "text/plain": [
       "<matplotlib.colorbar.Colorbar at 0x11d8d2400>"
      ]
     },
     "execution_count": 41,
     "metadata": {},
     "output_type": "execute_result"
    },
    {
     "data": {
      "image/png": "[encoded data removed]",
      "text/plain": [
       "<Figure size 432x288 with 2 Axes>"
      ]
     },
     "metadata": {
      "needs_background": "light"
     },
     "output_type": "display_data"
    }
   ],
   "source": [
    "data[data == ds.nodata] = np.nan\n",
    "data[data == 0] = 0.0001\n",
    "plt.imshow(np.log10(data), vmin=0)\n",
    "plt.colorbar(label='Population per 1$km^2$ in $\\log_{10}$ scale')"
   ]
  },
  {
   "cell_type": "markdown",
   "metadata": {},
   "source": [
    "To save the raster image back to file:"
   ]
  },
  {
   "cell_type": "code",
   "execution_count": 59,
   "metadata": {},
   "outputs": [],
   "source": [
    "target_path = './data/ilpop10.tif'    # replace this with the actual path\n",
    "with rasterio.open(target_path, 'w', **full_metadata) as ds:    # use the previously copied metadata\n",
    "    ds.write(data, 1)    # write to the first band"
   ]
  },
  {
   "cell_type": "markdown",
   "metadata": {},
   "source": [
    "In actual use cases, you may want to edit contents from `full_metadata` accordingly:"
   ]
  },
  {
   "cell_type": "code",
   "execution_count": 60,
   "metadata": {},
   "outputs": [
    {
     "data": {
      "text/plain": [
       "{'driver': 'GTiff',\n",
       " 'dtype': 'float32',\n",
       " 'nodata': -407649103380480.0,\n",
       " 'width': 483,\n",
       " 'height': 666,\n",
       " 'count': 1,\n",
       " 'crs': CRS({'init': 'epsg:4326'}),\n",
       " 'transform': Affine(0.008333333333333345, 0.0, -91.51666666698287,\n",
       "        0.0, -0.00833333333333333, 42.51666666623275)}"
      ]
     },
     "execution_count": 60,
     "metadata": {},
     "output_type": "execute_result"
    }
   ],
   "source": [
    "full_metadata"
   ]
  },
  {
   "cell_type": "markdown",
   "metadata": {},
   "source": [
    "## Reading and writing vector data\n",
    "\n",
    "One way to think about vector data is that a vector dataset is just a spreadsheet with a column for geolocation (be it point, line, polygon, or multipolygon). This is exactly how vector datasets are represented in GeoPandas.\n",
    "\n",
    "Here, we will use the following dataset as an example:\n",
    "> US Census Bureau (2019, February 06). TIGER/Line Shapefile, 2017, nation, U.S., Current County and Equivalent National Shapefile. Retrieved from https://catalog.data.gov/dataset/tiger-line-shapefile-2017-nation-u-s-current-county-and-equivalent-national-shapefile\n",
    "\n",
    "To open the shapefile:"
   ]
  },
  {
   "cell_type": "code",
   "execution_count": 42,
   "metadata": {},
   "outputs": [
    {
     "data": {
      "text/html": [
       "<div>\n",
       "<style scoped>\n",
       "    .dataframe tbody tr th:only-of-type {\n",
       "        vertical-align: middle;\n",
       "    }\n",
       "\n",
       "    .dataframe tbody tr th {\n",
       "        vertical-align: top;\n",
       "    }\n",
       "\n",
       "    .dataframe thead th {\n",
       "        text-align: right;\n",
       "    }\n",
       "</style>\n",
       "<table border=\"1\" class=\"dataframe\">\n",
       "  <thead>\n",
       "    <tr style=\"text-align: right;\">\n",
       "      <th></th>\n",
       "      <th>STATEFP</th>\n",
       "      <th>COUNTYFP</th>\n",
       "      <th>COUNTYNS</th>\n",
       "      <th>GEOID</th>\n",
       "      <th>NAME</th>\n",
       "      <th>NAMELSAD</th>\n",
       "      <th>LSAD</th>\n",
       "      <th>CLASSFP</th>\n",
       "      <th>MTFCC</th>\n",
       "      <th>CSAFP</th>\n",
       "      <th>CBSAFP</th>\n",
       "      <th>METDIVFP</th>\n",
       "      <th>FUNCSTAT</th>\n",
       "      <th>ALAND</th>\n",
       "      <th>AWATER</th>\n",
       "      <th>INTPTLAT</th>\n",
       "      <th>INTPTLON</th>\n",
       "      <th>geometry</th>\n",
       "    </tr>\n",
       "  </thead>\n",
       "  <tbody>\n",
       "    <tr>\n",
       "      <th>0</th>\n",
       "      <td>31</td>\n",
       "      <td>039</td>\n",
       "      <td>00835841</td>\n",
       "      <td>31039</td>\n",
       "      <td>Cuming</td>\n",
       "      <td>Cuming County</td>\n",
       "      <td>06</td>\n",
       "      <td>H1</td>\n",
       "      <td>G4020</td>\n",
       "      <td>None</td>\n",
       "      <td>None</td>\n",
       "      <td>None</td>\n",
       "      <td>A</td>\n",
       "      <td>1477641638</td>\n",
       "      <td>10701538</td>\n",
       "      <td>+41.9158651</td>\n",
       "      <td>-096.7885168</td>\n",
       "      <td>POLYGON ((-97.019516 42.004097, -97.019519 42....</td>\n",
       "    </tr>\n",
       "    <tr>\n",
       "      <th>1</th>\n",
       "      <td>53</td>\n",
       "      <td>069</td>\n",
       "      <td>01513275</td>\n",
       "      <td>53069</td>\n",
       "      <td>Wahkiakum</td>\n",
       "      <td>Wahkiakum County</td>\n",
       "      <td>06</td>\n",
       "      <td>H1</td>\n",
       "      <td>G4020</td>\n",
       "      <td>None</td>\n",
       "      <td>None</td>\n",
       "      <td>None</td>\n",
       "      <td>A</td>\n",
       "      <td>680956787</td>\n",
       "      <td>61588406</td>\n",
       "      <td>+46.2946377</td>\n",
       "      <td>-123.4244583</td>\n",
       "      <td>POLYGON ((-123.436394 46.238197, -123.447592 4...</td>\n",
       "    </tr>\n",
       "    <tr>\n",
       "      <th>2</th>\n",
       "      <td>35</td>\n",
       "      <td>011</td>\n",
       "      <td>00933054</td>\n",
       "      <td>35011</td>\n",
       "      <td>De Baca</td>\n",
       "      <td>De Baca County</td>\n",
       "      <td>06</td>\n",
       "      <td>H1</td>\n",
       "      <td>G4020</td>\n",
       "      <td>None</td>\n",
       "      <td>None</td>\n",
       "      <td>None</td>\n",
       "      <td>A</td>\n",
       "      <td>6016761648</td>\n",
       "      <td>29147345</td>\n",
       "      <td>+34.3592729</td>\n",
       "      <td>-104.3686961</td>\n",
       "      <td>POLYGON ((-104.567387 33.997566, -104.567717 3...</td>\n",
       "    </tr>\n",
       "    <tr>\n",
       "      <th>3</th>\n",
       "      <td>31</td>\n",
       "      <td>109</td>\n",
       "      <td>00835876</td>\n",
       "      <td>31109</td>\n",
       "      <td>Lancaster</td>\n",
       "      <td>Lancaster County</td>\n",
       "      <td>06</td>\n",
       "      <td>H1</td>\n",
       "      <td>G4020</td>\n",
       "      <td>339</td>\n",
       "      <td>30700</td>\n",
       "      <td>None</td>\n",
       "      <td>A</td>\n",
       "      <td>2169252486</td>\n",
       "      <td>22867561</td>\n",
       "      <td>+40.7835474</td>\n",
       "      <td>-096.6886584</td>\n",
       "      <td>POLYGON ((-96.91059899999999 40.958407, -96.91...</td>\n",
       "    </tr>\n",
       "    <tr>\n",
       "      <th>4</th>\n",
       "      <td>31</td>\n",
       "      <td>129</td>\n",
       "      <td>00835886</td>\n",
       "      <td>31129</td>\n",
       "      <td>Nuckolls</td>\n",
       "      <td>Nuckolls County</td>\n",
       "      <td>06</td>\n",
       "      <td>H1</td>\n",
       "      <td>G4020</td>\n",
       "      <td>None</td>\n",
       "      <td>None</td>\n",
       "      <td>None</td>\n",
       "      <td>A</td>\n",
       "      <td>1489645186</td>\n",
       "      <td>1718484</td>\n",
       "      <td>+40.1764918</td>\n",
       "      <td>-098.0468422</td>\n",
       "      <td>POLYGON ((-98.27366699999999 40.089399, -98.27...</td>\n",
       "    </tr>\n",
       "  </tbody>\n",
       "</table>\n",
       "</div>"
      ],
      "text/plain": [
       "  STATEFP COUNTYFP  COUNTYNS  GEOID       NAME          NAMELSAD LSAD CLASSFP  \\\n",
       "0      31      039  00835841  31039     Cuming     Cuming County   06      H1   \n",
       "1      53      069  01513275  53069  Wahkiakum  Wahkiakum County   06      H1   \n",
       "2      35      011  00933054  35011    De Baca    De Baca County   06      H1   \n",
       "3      31      109  00835876  31109  Lancaster  Lancaster County   06      H1   \n",
       "4      31      129  00835886  31129   Nuckolls   Nuckolls County   06      H1   \n",
       "\n",
       "   MTFCC CSAFP CBSAFP METDIVFP FUNCSTAT       ALAND    AWATER     INTPTLAT  \\\n",
       "0  G4020  None   None     None        A  1477641638  10701538  +41.9158651   \n",
       "1  G4020  None   None     None        A   680956787  61588406  +46.2946377   \n",
       "2  G4020  None   None     None        A  6016761648  29147345  +34.3592729   \n",
       "3  G4020   339  30700     None        A  2169252486  22867561  +40.7835474   \n",
       "4  G4020  None   None     None        A  1489645186   1718484  +40.1764918   \n",
       "\n",
       "       INTPTLON                                           geometry  \n",
       "0  -096.7885168  POLYGON ((-97.019516 42.004097, -97.019519 42....  \n",
       "1  -123.4244583  POLYGON ((-123.436394 46.238197, -123.447592 4...  \n",
       "2  -104.3686961  POLYGON ((-104.567387 33.997566, -104.567717 3...  \n",
       "3  -096.6886584  POLYGON ((-96.91059899999999 40.958407, -96.91...  \n",
       "4  -098.0468422  POLYGON ((-98.27366699999999 40.089399, -98.27...  "
      ]
     },
     "execution_count": 42,
     "metadata": {},
     "output_type": "execute_result"
    }
   ],
   "source": [
    "ds = gpd.read_file('data/tl_2017_us_county.shp')\n",
    "ds.head()    # get a preview of the first few entries"
   ]
  },
  {
   "cell_type": "markdown",
   "metadata": {},
   "source": [
    "To get some metadata of the dataset:"
   ]
  },
  {
   "cell_type": "code",
   "execution_count": 48,
   "metadata": {},
   "outputs": [
    {
     "name": "stdout",
     "output_type": "stream",
     "text": [
      "CRS: {'init': 'epsg:4269'}\n",
      "Columns: ['STATEFP', 'COUNTYFP', 'COUNTYNS', 'GEOID', 'NAME', 'NAMELSAD', 'LSAD', 'CLASSFP', 'MTFCC', 'CSAFP', 'CBSAFP', 'METDIVFP', 'FUNCSTAT', 'ALAND', 'AWATER', 'INTPTLAT', 'INTPTLON', 'geometry']\n",
      "Number of entries: 3233\n"
     ]
    }
   ],
   "source": [
    "print('CRS: %s' % str(ds.crs))\n",
    "print('Columns: %s' % str(list(ds.columns)))\n",
    "print('Number of entries: %d' % ds.shape[0])"
   ]
  },
  {
   "cell_type": "markdown",
   "metadata": {},
   "source": [
    "If you want to select, for example, Champaign county of Illinois, whose [GEOID](https://www.census.gov/programs-surveys/geography/guidance/geo-identifiers.html) is 17019, you can do the following:"
   ]
  },
  {
   "cell_type": "code",
   "execution_count": 49,
   "metadata": {},
   "outputs": [
    {
     "data": {
      "text/plain": [
       "STATEFP                                                    17\n",
       "COUNTYFP                                                  019\n",
       "COUNTYNS                                             00424211\n",
       "GEOID                                                   17019\n",
       "NAME                                                Champaign\n",
       "NAMELSAD                                     Champaign County\n",
       "LSAD                                                       06\n",
       "CLASSFP                                                    H1\n",
       "MTFCC                                                   G4020\n",
       "CSAFP                                                    None\n",
       "CBSAFP                                                  16580\n",
       "METDIVFP                                                 None\n",
       "FUNCSTAT                                                    A\n",
       "ALAND                                              2579733580\n",
       "AWATER                                                6091992\n",
       "INTPTLAT                                          +40.1389800\n",
       "INTPTLON                                         -088.1969959\n",
       "geometry    POLYGON ((-88.463174 40.142196, -88.463094 40....\n",
       "Name: 2621, dtype: object"
      ]
     },
     "execution_count": 49,
     "metadata": {},
     "output_type": "execute_result"
    }
   ],
   "source": [
    "selection = ds[ds['GEOID'] == '17019']\n",
    "assert selection.shape[0] == 1    # there should be one and only one Champaign County\n",
    "champaign_entry = selection.iloc[0]\n",
    "champaign_entry"
   ]
  },
  {
   "cell_type": "markdown",
   "metadata": {},
   "source": [
    "You can obtain its geometry—in this case, it is a polygon—from the \"geometry\" field:"
   ]
  },
  {
   "cell_type": "code",
   "execution_count": 52,
   "metadata": {},
   "outputs": [
    {
     "data": {
      "image/svg+xml": [
       "<svg xmlns=\"http://www.w3.org/2000/svg\" xmlns:xlink=\"http://www.w3.org/1999/xlink\" width=\"100.0\" height=\"100.0\" viewBox=\"-88.48505599999999 39.857696 0.5776919999999848 0.564312000000001\" preserveAspectRatio=\"xMinYMin meet\"><g transform=\"matrix(1,0,0,-1,0,80.279704)\"><path fill-rule=\"evenodd\" fill=\"#66cc99\" stroke=\"#555555\" stroke-width=\"0.011553839999999696\" opacity=\"0.6\" d=\"M -88.463174,40.142196 L -88.463094,40.143944999999995 L -88.46302999999999,40.144833999999996 L -88.462881,40.148306 L -88.46287799999999,40.148387 L -88.462876,40.148433 L -88.462874,40.148489999999995 L -88.462875,40.148588 L -88.46318199999999,40.159606 L -88.463183,40.159617 L -88.463335,40.163868 L -88.46330499999999,40.164010999999995 L -88.463338,40.164017 L -88.463343,40.164963 L -88.46333399999999,40.167541 L -88.463338,40.167985 L -88.463335,40.169426 L -88.46334499999999,40.171071999999995 L -88.463347,40.171365 L -88.46336199999999,40.173693 L -88.46337,40.177209999999995 L -88.46340000000001,40.180014 L -88.463402,40.182772 L -88.463397,40.184121999999995 L -88.46340000000001,40.185022 L -88.46338999999999,40.186786 L -88.46340599999999,40.190463 L -88.463404,40.192457 L -88.463411,40.19294 L -88.463409,40.193148 L -88.463425,40.194583 L -88.46342299999999,40.195802 L -88.463444,40.197856 L -88.463455,40.200525999999996 L -88.463472,40.203074 L -88.463473,40.203235 L -88.463475,40.203496 L -88.463447,40.203694 L -88.463448,40.203717 L -88.463458,40.203934 L -88.463481,40.20663 L -88.46348499999999,40.209562 L -88.46347999999999,40.210411 L -88.46346199999999,40.211349 L -88.46346899999999,40.211726 L -88.463498,40.212379 L -88.463506,40.212680999999996 L -88.463515,40.212962999999995 L -88.46354,40.213845 L -88.463544,40.214118 L -88.46354699999999,40.21425 L -88.463556,40.21474 L -88.463612,40.216071 L -88.463628,40.217257 L -88.463634,40.218257 L -88.46360399999999,40.218402999999995 L -88.46365999999999,40.223352 L -88.46072,40.223321999999996 L -88.460708,40.224804 L -88.460709,40.226976 L -88.460698,40.229887 L -88.460647,40.234304 L -88.46064299999999,40.235335 L -88.46064799999999,40.237883 L -88.46064199999999,40.23809 L -88.460567,40.244411 L -88.460561,40.247285999999995 L -88.46055199999999,40.24792 L -88.460554,40.251084 L -88.460554,40.251154 L -88.460555,40.252261 L -88.460561,40.252769 L -88.460562,40.25309 L -88.460537,40.255866999999995 L -88.460534,40.256602 L -88.460521,40.259808 L -88.460521,40.259868 L -88.460522,40.260371 L -88.46052399999999,40.26284 L -88.46049099999999,40.266481 L -88.460492,40.266901 L -88.460495,40.26714 L -88.460495,40.267354 L -88.460484,40.268823999999995 L -88.460481,40.269377999999996 L -88.460475,40.270351999999995 L -88.460473,40.270647 L -88.460473,40.271547 L -88.460465,40.27662 L -88.46042899999999,40.280868999999996 L -88.460428,40.28091 L -88.460425,40.281220999999995 L -88.460425,40.281276999999996 L -88.460428,40.281498 L -88.46041799999999,40.281935 L -88.46041699999999,40.282196 L -88.460416,40.282345 L -88.460408,40.284386 L -88.460391,40.288609 L -88.460386,40.291152 L -88.460385,40.291688 L -88.46034499999999,40.295429999999996 L -88.460347,40.296381 L -88.460347,40.296568 L -88.460347,40.296589 L -88.460348,40.296783 L -88.460348,40.296814999999995 L -88.460348,40.296859999999995 L -88.460349,40.297536 L -88.46034499999999,40.298100000000005 L -88.460343,40.298333 L -88.460306,40.303604 L -88.46030499999999,40.303708 L -88.46026599999999,40.31052 L -88.46026599999999,40.310544 L -88.46026499999999,40.310567999999996 L -88.46026499999999,40.310611 L -88.460264,40.31086 L -88.46026499999999,40.310888999999996 L -88.460269,40.310991 L -88.460269,40.311003 L -88.460279,40.311249 L -88.46031699999999,40.313955 L -88.460329,40.31482 L -88.46033,40.314854 L -88.46033899999999,40.315128 L -88.460347,40.315346999999996 L -88.460366,40.317276 L -88.46036699999999,40.317733 L -88.46036699999999,40.317755 L -88.46036699999999,40.31785 L -88.46036699999999,40.31787 L -88.46036699999999,40.317966 L -88.46036699999999,40.317979 L -88.460368,40.318097 L -88.460358,40.318348 L -88.460314,40.318494 L -88.460308,40.318602 L -88.460302,40.31867 L -88.460297,40.318726999999996 L -88.460297,40.318889 L -88.460296,40.319024 L -88.460285,40.320209999999996 L -88.460285,40.320222 L -88.460285,40.320235 L -88.460285,40.320249 L -88.460285,40.320264 L -88.460285,40.320279 L -88.460285,40.320294 L -88.460285,40.320308999999995 L -88.460285,40.320322999999995 L -88.460285,40.320336 L -88.460285,40.320347999999996 L -88.460285,40.320358 L -88.46028,40.321262 L -88.460276,40.322379 L -88.46028,40.323476 L -88.46028799999999,40.324062 L -88.460289,40.324692999999996 L -88.460296,40.325291 L -88.460297,40.325418 L -88.46031699999999,40.325635999999996 L -88.460349,40.325755 L -88.460382,40.325984999999996 L -88.460394,40.326277999999995 L -88.4604,40.326826 L -88.460393,40.327618 L -88.460393,40.327632 L -88.460392,40.327673 L -88.460392,40.327723 L -88.460392,40.327767 L -88.460392,40.327805999999995 L -88.460392,40.327839 L -88.460392,40.327867 L -88.460392,40.327891 L -88.460392,40.327911 L -88.460392,40.327926999999995 L -88.460392,40.32794 L -88.460392,40.327951 L -88.46038899999999,40.328395 L -88.460391,40.328623 L -88.460391,40.328635 L -88.460391,40.328646 L -88.46039499999999,40.329034 L -88.460383,40.32978 L -88.460383,40.329800999999996 L -88.460383,40.329813 L -88.460383,40.329823 L -88.460382,40.329867 L -88.460382,40.329882999999995 L -88.46038,40.33003 L -88.460376,40.330676 L -88.460376,40.330709999999996 L -88.46036199999999,40.333034999999995 L -88.46036099999999,40.33314 L -88.46035599999999,40.334027999999996 L -88.460318,40.337931 L -88.46032,40.338555 L -88.460325,40.340104 L -88.46033399999999,40.340148 L -88.460381,40.340249 L -88.460394,40.340274 L -88.46041699999999,40.340526 L -88.460391,40.344173999999995 L -88.460391,40.344242 L -88.460388,40.344604 L -88.46037299999999,40.346052 L -88.460366,40.347153 L -88.460366,40.347162999999995 L -88.460332,40.351605 L -88.460315,40.354166 L -88.460318,40.354561 L -88.46032,40.3549 L -88.46032,40.354918 L -88.460315,40.355413 L -88.46034,40.356868999999996 L -88.46034499999999,40.357461 L -88.460346,40.357498 L -88.460346,40.357532 L -88.460346,40.357555999999995 L -88.460346,40.357566 L -88.460347,40.357728 L -88.460326,40.361882 L -88.460331,40.362144 L -88.460331,40.362176999999996 L -88.460323,40.362939 L -88.46032799999999,40.363147999999995 L -88.460296,40.365139 L -88.460264,40.369246 L -88.460262,40.369493 L -88.460229,40.373501999999995 L -88.46021999999999,40.374945 L -88.460219,40.375032 L -88.460212,40.376276 L -88.4602,40.377604 L -88.4602,40.377631 L -88.4602,40.377641 L -88.460199,40.377668 L -88.460196,40.378008 L -88.460188,40.3796 L -88.460186,40.379934999999996 L -88.460185,40.380103999999996 L -88.460185,40.38019 L -88.460185,40.380268 L -88.460179,40.381552 L -88.460174,40.382141999999995 L -88.460174,40.382169999999995 L -88.460174,40.382205 L -88.460173,40.382228999999995 L -88.460173,40.382244 L -88.460173,40.382281 L -88.460172,40.382416 L -88.460172,40.382458 L -88.460168,40.382971 L -88.460168,40.382984 L -88.460168,40.383002999999995 L -88.46016499999999,40.383386 L -88.46015299999999,40.384187 L -88.46015299999999,40.384205 L -88.46015299999999,40.384219 L -88.46015299999999,40.384232999999995 L -88.46014699999999,40.384591 L -88.46014699999999,40.384608 L -88.46014699999999,40.384633 L -88.460146,40.384685 L -88.460073,40.389671 L -88.460065,40.389973 L -88.460064,40.390004 L -88.46006299999999,40.390049999999995 L -88.46006299999999,40.390068 L -88.460062,40.390119999999996 L -88.460033,40.391366999999995 L -88.460033,40.39138 L -88.460031,40.391456 L -88.46002999999999,40.391470999999996 L -88.46002899999999,40.391507 L -88.460038,40.391608999999995 L -88.46002399999999,40.39185 L -88.460019,40.392204 L -88.460002,40.392711 L -88.459998,40.39328 L -88.45998499999999,40.394397999999995 L -88.459981,40.394695999999996 L -88.45996799999999,40.395312 L -88.459966,40.395396 L -88.459974,40.395638 L -88.45998,40.395714999999996 L -88.45998,40.395728999999996 L -88.459993,40.396082 L -88.459988,40.396768 L -88.459958,40.398658 L -88.459958,40.398686 L -88.459957,40.398849999999996 L -88.45807599999999,40.398818 L -88.457993,40.398817 L -88.45791,40.398816 L -88.456239,40.398801999999996 L -88.455861,40.398796 L -88.44998299999999,40.398745 L -88.44980799999999,40.398744 L -88.447282,40.398723 L -88.44713,40.398722 L -88.445088,40.39871 L -88.442185,40.398693 L -88.44187199999999,40.398691 L -88.441711,40.398697 L -88.441541,40.398702 L -88.439751,40.398703 L -88.43892699999999,40.398714 L -88.438413,40.39873 L -88.438233,40.398731 L -88.438087,40.398731999999995 L -88.436475,40.398697 L -88.433308,40.398672999999995 L -88.425478,40.398638999999996 L -88.42361799999999,40.398623 L -88.423492,40.398624 L -88.423125,40.398627 L -88.423013,40.398618 L -88.422861,40.39859 L -88.42270099999999,40.398556 L -88.422437,40.398534 L -88.42201399999999,40.398539 L -88.41041899999999,40.398494 L -88.410208,40.398492999999995 L -88.409371,40.398498 L -88.409233,40.398499 L -88.407556,40.398481 L -88.405902,40.398478 L -88.404471,40.398483 L -88.404118,40.398486 L -88.403936,40.398488 L -88.403801,40.398489999999995 L -88.40319,40.398499 L -88.401772,40.398494 L -88.393985,40.398520999999995 L -88.393906,40.398520999999995 L -88.385215,40.398537 L -88.382437,40.398542 L -88.377937,40.398537 L -88.376612,40.398541 L -88.37552699999999,40.398558 L -88.37502599999999,40.3986 L -88.367395,40.398675999999995 L -88.36613299999999,40.398688 L -88.357413,40.398691 L -88.357355,40.398691 L -88.35728,40.398691 L -88.352212,40.398669999999996 L -88.348553,40.398655999999995 L -88.346987,40.398651 L -88.341205,40.398627999999995 L -88.32951899999999,40.398586 L -88.329228,40.398585 L -88.32850499999999,40.398633 L -88.318225,40.398705 L -88.317968,40.398707 L -88.30997599999999,40.398762999999995 L -88.30977299999999,40.398765999999995 L -88.309483,40.398770999999996 L -88.305561,40.398812 L -88.30353099999999,40.398832999999996 L -88.301082,40.398863 L -88.298501,40.398889 L -88.297974,40.398894999999996 L -88.295756,40.398922 L -88.29517899999999,40.398928 L -88.291102,40.398969 L -88.291022,40.39897 L -88.29096799999999,40.398972 L -88.290915,40.398973 L -88.29086699999999,40.398975 L -88.290825,40.398973999999995 L -88.290587,40.398967 L -88.290565,40.398966 L -88.290021,40.398976999999995 L -88.28891999999999,40.398979 L -88.28611,40.399009 L -88.285308,40.399017 L -88.283429,40.399032 L -88.27990299999999,40.399068 L -88.27724099999999,40.399102 L -88.273697,40.399131 L -88.272347,40.399138 L -88.271672,40.399153 L -88.27149299999999,40.399155 L -88.268917,40.399183 L -88.267263,40.399195999999996 L -88.26374,40.399237 L -88.261319,40.399276 L -88.259215,40.39929 L -88.257093,40.399316 L -88.25413499999999,40.399325999999995 L -88.252831,40.399335 L -88.250935,40.399355 L -88.25057199999999,40.39936 L -88.24739199999999,40.399403 L -88.239387,40.399479 L -88.238176,40.399502999999996 L -88.234867,40.399519999999995 L -88.23371999999999,40.399518 L -88.23017,40.399553999999995 L -88.22975699999999,40.399556 L -88.227828,40.399564999999996 L -88.225797,40.399595999999995 L -88.225747,40.399597 L -88.22543499999999,40.399601 L -88.223867,40.399606 L -88.223641,40.399608 L -88.219268,40.399637999999996 L -88.219004,40.399639 L -88.21724499999999,40.399642 L -88.217191,40.399643 L -88.217072,40.399643 L -88.217,40.399643999999995 L -88.21696399999999,40.399643999999995 L -88.216803,40.399647 L -88.216757,40.399648 L -88.216613,40.399648 L -88.21654099999999,40.399649 L -88.21625399999999,40.399649 L -88.21618199999999,40.39965 L -88.215859,40.39965 L -88.214028,40.39966 L -88.21367699999999,40.399654999999996 L -88.21355899999999,40.399654999999996 L -88.213444,40.399654999999996 L -88.21337299999999,40.399657999999995 L -88.213157,40.399667 L -88.21033299999999,40.399694 L -88.209924,40.399696 L -88.208331,40.399705999999995 L -88.205889,40.399721 L -88.20438899999999,40.399733999999995 L -88.200864,40.399757 L -88.19891899999999,40.399764 L -88.197267,40.399783 L -88.195728,40.399795 L -88.19460000000001,40.399789999999996 L -88.194364,40.399792999999995 L -88.190634,40.399847 L -88.188093,40.39987 L -88.18604599999999,40.399896 L -88.183861,40.399919 L -88.18296,40.399932 L -88.181513,40.399941 L -88.18064799999999,40.399946 L -88.177596,40.399972999999996 L -88.177106,40.399977 L -88.175687,40.4 L -88.175277,40.400009999999995 L -88.17501,40.400008 L -88.17388799999999,40.400025 L -88.170002,40.400062 L -88.16994,40.400062 L -88.16480399999999,40.400099 L -88.162151,40.400127 L -88.16168499999999,40.400135999999996 L -88.161649,40.400135999999996 L -88.161577,40.400138 L -88.161541,40.400138 L -88.16150499999999,40.400138999999996 L -88.161469,40.400138999999996 L -88.159094,40.400155 L -88.155973,40.400180999999996 L -88.153303,40.400213 L -88.147927,40.400265 L -88.142693,40.400327999999995 L -88.141848,40.400341 L -88.138166,40.400379 L -88.13685199999999,40.400397 L -88.13680699999999,40.400392 L -88.136763,40.400377 L -88.136726,40.400357 L -88.13666099999999,40.40039 L -88.136333,40.400403 L -88.133056,40.400419 L -88.131959,40.400421 L -88.13127899999999,40.400416 L -88.13008599999999,40.400431999999995 L -88.12991799999999,40.400433 L -88.128897,40.400442 L -88.12856,40.400451 L -88.125891,40.400514 L -88.125653,40.400562 L -88.121617,40.400596 L -88.120656,40.400587 L -88.120222,40.400582 L -88.119129,40.400587 L -88.11768699999999,40.400608999999996 L -88.11758499999999,40.400608999999996 L -88.11741099999999,40.40061 L -88.116616,40.400611999999995 L -88.113451,40.400574999999996 L -88.112059,40.400563 L -88.106048,40.40051 L -88.10582,40.40051 L -88.100912,40.400486 L -88.099356,40.400479 L -88.097959,40.400472 L -88.097145,40.40047 L -88.09383799999999,40.400442 L -88.090762,40.400422 L -88.088877,40.400397 L -88.087015,40.400386 L -88.08679699999999,40.400383999999995 L -88.082824,40.400349999999996 L -88.078851,40.400317 L -88.07668,40.400315 L -88.07062499999999,40.400331 L -88.06942099999999,40.400337 L -88.068288,40.400343 L -88.065956,40.400349999999996 L -88.06522299999999,40.400355999999995 L -88.06397,40.400366 L -88.06388,40.400366 L -88.06087699999999,40.400389 L -88.059964,40.400386999999995 L -88.059557,40.400391 L -88.056885,40.400386 L -88.050085,40.40039 L -88.048682,40.400377 L -88.046453,40.400372999999995 L -88.040623,40.40039 L -88.040421,40.400391 L -88.033976,40.400422 L -88.03214799999999,40.400425 L -88.029172,40.400445999999995 L -88.027746,40.400445999999995 L -88.026471,40.400437 L -88.02627199999999,40.40045 L -88.025954,40.400439 L -88.024886,40.400455 L -88.02302999999999,40.400476 L -88.02188199999999,40.400473999999996 L -88.021732,40.400473 L -88.021548,40.400466 L -88.020206,40.40045 L -88.01840299999999,40.40045 L -88.016943,40.400439 L -88.014957,40.400448999999995 L -88.012036,40.400476 L -88.01194799999999,40.400476999999995 L -88.011847,40.400478 L -88.011658,40.40048 L -88.01151399999999,40.400482 L -88.01138,40.400483 L -88.011166,40.400484999999996 L -88.008904,40.400486 L -88.008888,40.400486 L -88.007313,40.400486 L -88.007074,40.400486 L -88.005512,40.400498999999996 L -88.003963,40.400503 L -88.00346499999999,40.400504 L -88.002848,40.4005 L -88.00280099999999,40.400498 L -88.00241799999999,40.400484 L -88.002336,40.400478 L -88.002032,40.400458 L -88.000059,40.400267 L -87.99993099999999,40.400255 L -87.999265,40.400185 L -87.998102,40.400054999999995 L -87.997483,40.399989999999995 L -87.996594,40.399888 L -87.995125,40.399738 L -87.99422,40.399647 L -87.994194,40.399643999999995 L -87.99358099999999,40.399581999999995 L -87.990674,40.399259 L -87.990374,40.399232999999995 L -87.990267,40.399229 L -87.981616,40.399087 L -87.981477,40.399085 L -87.981402,40.399083999999995 L -87.97937999999999,40.399074 L -87.977308,40.399054 L -87.976677,40.399048 L -87.975994,40.399056 L -87.975938,40.399057 L -87.97584499999999,40.399058 L -87.975595,40.399056 L -87.974272,40.399068 L -87.974094,40.399069999999995 L -87.972078,40.399089 L -87.971606,40.399093 L -87.97128699999999,40.399091 L -87.970597,40.399087 L -87.969934,40.399079 L -87.969516,40.399087 L -87.96927699999999,40.399091999999996 L -87.969225,40.399093 L -87.967418,40.399105 L -87.96576499999999,40.399128 L -87.96500999999999,40.399131 L -87.964906,40.399136 L -87.964832,40.399139999999996 L -87.964632,40.399142999999995 L -87.963979,40.399153 L -87.960713,40.399176 L -87.95813299999999,40.399206 L -87.952202,40.399245 L -87.95176699999999,40.399242 L -87.951484,40.399218999999995 L -87.95146,40.399217 L -87.951431,40.399215 L -87.95138899999999,40.399212999999996 L -87.95131599999999,40.399211 L -87.95120899999999,40.399214 L -87.951033,40.399232 L -87.950797,40.399249 L -87.95041499999999,40.39926 L -87.94627299999999,40.39929 L -87.94270499999999,40.399324 L -87.942064,40.399325999999995 L -87.94112,40.39933 L -87.93619699999999,40.399367 L -87.932858,40.399401 L -87.93268499999999,40.394830999999996 L -87.932684,40.394796 L -87.932602,40.392603 L -87.93260000000001,40.392548 L -87.932598,40.392492 L -87.932425,40.387895 L -87.93242099999999,40.387794 L -87.932402,40.387274 L -87.932395,40.38706 L -87.932388,40.386845 L -87.932321,40.385101 L -87.93231899999999,40.385036 L -87.932316,40.384971 L -87.932205,40.383472999999995 L -87.93180699999999,40.378111 L -87.931795,40.37721 L -87.931738,40.375035 L -87.931727,40.374628 L -87.93163,40.371325 L -87.93162,40.370903 L -87.931579,40.369239 L -87.931508,40.367269 L -87.931472,40.366279999999996 L -87.931445,40.365863999999995 L -87.93142,40.365669 L -87.931367,40.365432 L -87.931347,40.365300999999995 L -87.931332,40.364923 L -87.931327,40.363704 L -87.931327,40.363669 L -87.931331,40.363335 L -87.931316,40.361363999999995 L -87.93127899999999,40.358896 L -87.931248,40.357330999999995 L -87.93114899999999,40.353891 L -87.931135,40.352792 L -87.931096,40.351869 L -87.931049,40.350744999999996 L -87.93103099999999,40.350305 L -87.930925,40.34702 L -87.93092399999999,40.346976 L -87.930869,40.345268999999995 L -87.930771,40.342214 L -87.930686,40.339576 L -87.93066499999999,40.338941 L -87.93063699999999,40.338077999999996 L -87.93059099999999,40.337112999999995 L -87.930589,40.337022999999995 L -87.930588,40.336999 L -87.930545,40.335102 L -87.93048399999999,40.332778999999995 L -87.930466,40.332057 L -87.930421,40.330318 L -87.930351,40.327826 L -87.930493,40.322669 L -87.930492,40.322593999999995 L -87.93049099999999,40.322568 L -87.930489,40.322337999999995 L -87.930422,40.317513 L -87.93041699999999,40.317052 L -87.930387,40.314935999999996 L -87.930387,40.314917 L -87.93036599999999,40.313376999999996 L -87.930354,40.312428 L -87.930341,40.311478 L -87.93033,40.310645 L -87.93032099999999,40.309954 L -87.930173,40.299101 L -87.929986,40.285430999999996 L -87.929981,40.285413 L -87.92966899999999,40.284413 L -87.92967399999999,40.284341999999995 L -87.92965699999999,40.282762 L -87.929634,40.281597 L -87.92963999999999,40.280153999999996 L -87.929611,40.279011 L -87.92956699999999,40.276391 L -87.92953,40.274789999999996 L -87.92945999999999,40.271051 L -87.929442,40.270899 L -87.929436,40.270849999999996 L -87.929428,40.270775 L -87.929422,40.270666 L -87.92942699999999,40.270178 L -87.929442,40.269693 L -87.929418,40.269458 L -87.92938099999999,40.267393999999996 L -87.929369,40.265966999999996 L -87.92932599999999,40.263956 L -87.92922,40.258283 L -87.92919499999999,40.254982999999996 L -87.929186,40.254847999999996 L -87.929177,40.25317 L -87.929171,40.252716 L -87.92917,40.252687 L -87.92915699999999,40.251706999999996 L -87.929133,40.250569999999996 L -87.929125,40.249745 L -87.929115,40.248658 L -87.92908399999999,40.247535 L -87.929079,40.247350999999995 L -87.92906099999999,40.246280999999996 L -87.92900499999999,40.243866 L -87.928928,40.240874 L -87.92892499999999,40.240338 L -87.92889699999999,40.239326 L -87.92886999999999,40.237729 L -87.928827,40.233533 L -87.928816,40.230091 L -87.92878999999999,40.228415999999996 L -87.928784,40.227900000000005 L -87.928783,40.22781 L -87.92876,40.225618999999995 L -87.92974699999999,40.225603 L -87.930573,40.225595999999996 L -87.933222,40.225564 L -87.93455399999999,40.225552 L -87.936385,40.22553 L -87.941212,40.225484 L -87.942103,40.225482 L -87.94206899999999,40.222817 L -87.942059,40.220079 L -87.942013,40.218329 L -87.942005,40.217807 L -87.941953,40.214275 L -87.941892,40.212119 L -87.94185999999999,40.210150999999996 L -87.941828,40.208777 L -87.941813,40.207605 L -87.94176,40.203511999999996 L -87.94175899999999,40.203489999999995 L -87.941717,40.201347999999996 L -87.94169699999999,40.199888 L -87.941683,40.197984999999996 L -87.94166299999999,40.196625 L -87.941656,40.195882 L -87.941627,40.192640999999995 L -87.941555,40.190068 L -87.941498,40.188552 L -87.94144299999999,40.185393 L -87.94143299999999,40.184613 L -87.941436,40.183586 L -87.941436,40.183538999999996 L -87.94143,40.181563 L -87.94138199999999,40.178222999999996 L -87.941392,40.17803 L -87.94138799999999,40.176746 L -87.94135299999999,40.171625999999996 L -87.941335,40.171068 L -87.941318,40.170905999999995 L -87.941276,40.168177 L -87.941251,40.164446999999996 L -87.941228,40.16292 L -87.94120799999999,40.160875 L -87.941167,40.157562999999996 L -87.941158,40.156509 L -87.94115,40.15641 L -87.941136,40.155972 L -87.94108399999999,40.152923 L -87.94108,40.149801 L -87.941071,40.149443999999995 L -87.941051,40.148603 L -87.940996,40.145817 L -87.94098799999999,40.144628999999995 L -87.940984,40.144400999999995 L -87.940984,40.144388 L -87.940967,40.142789 L -87.94095,40.142134 L -87.940933,40.141905 L -87.940826,40.141909 L -87.940508,40.141906 L -87.940423,40.141912 L -87.94041299999999,40.141847999999996 L -87.94040299999999,40.141638 L -87.940404,40.141213 L -87.94034599999999,40.138304999999995 L -87.940337,40.136680999999996 L -87.940285,40.131963999999996 L -87.94022199999999,40.12757 L -87.94023,40.127444 L -87.94022299999999,40.127309 L -87.940203,40.12706 L -87.94021,40.126216 L -87.940209,40.125142 L -87.940209,40.125105999999995 L -87.940209,40.125018 L -87.94019,40.124029 L -87.940163,40.121888 L -87.94015,40.121171 L -87.94014,40.120211 L -87.94014,40.120036999999996 L -87.940114,40.119456 L -87.940084,40.116405 L -87.940061,40.112725999999995 L -87.94006,40.11268 L -87.940069,40.112351 L -87.940052,40.112156999999996 L -87.94001999999999,40.110870999999996 L -87.93995799999999,40.106038999999996 L -87.939945,40.103701 L -87.939921,40.102605 L -87.93988999999999,40.100103 L -87.939841,40.094862 L -87.939831,40.094763 L -87.93983,40.094739 L -87.939949,40.083635 L -87.939622,40.07636 L -87.93963,40.076132 L -87.93962499999999,40.069379999999995 L -87.939619,40.068683 L -87.939602,40.066514 L -87.93956299999999,40.063513 L -87.939573,40.062703 L -87.93956399999999,40.062467 L -87.93956,40.062363999999995 L -87.93956,40.062307 L -87.93956,40.062224 L -87.939559,40.062141 L -87.939537,40.05694 L -87.939534,40.056141 L -87.93954699999999,40.055292 L -87.93954699999999,40.05524 L -87.93955,40.055060999999995 L -87.939545,40.054896 L -87.939534,40.054846 L -87.939511,40.054792 L -87.939475,40.054745 L -87.93941199999999,40.054697999999995 L -87.939279,40.054628 L -87.93924299999999,40.0546 L -87.939212,40.054552 L -87.939194,40.054499 L -87.93918,40.053571 L -87.939127,40.044971 L -87.93910699999999,40.042442 L -87.93909599999999,40.042308999999996 L -87.939061,40.042221999999995 L -87.939111,40.039336 L -87.93911,40.039262 L -87.939073,40.036612 L -87.939072,40.036586 L -87.939071,40.036572 L -87.939093,40.032591 L -87.939083,40.032458999999996 L -87.939075,40.03209 L -87.939072,40.031006999999995 L -87.939075,40.030007999999995 L -87.93906799999999,40.029492999999995 L -87.939066,40.027221999999995 L -87.939031,40.018080999999995 L -87.939031,40.018049999999995 L -87.939031,40.018035 L -87.93902899999999,40.016709999999996 L -87.93900599999999,40.013785 L -87.938985,40.012906 L -87.93898399999999,40.011796 L -87.939003,40.008164 L -87.93894399999999,40.004343999999996 L -87.938923,40.002131 L -87.938924,40.000032999999995 L -87.938924,39.99991 L -87.938924,39.999874999999996 L -87.938921,39.999711 L -87.938895,39.998211 L -87.938893,39.997994999999996 L -87.938881,39.996241999999995 L -87.938869,39.996063 L -87.938796,39.988862 L -87.938785,39.987784999999995 L -87.93875799999999,39.985661 L -87.93872499999999,39.981719 L -87.93871999999999,39.981515 L -87.93871899999999,39.980319 L -87.93869699999999,39.97726 L -87.938689,39.976780999999995 L -87.938693,39.974385999999996 L -87.93867499999999,39.970358999999995 L -87.938679,39.96814 L -87.93867399999999,39.967552 L -87.938659,39.96736 L -87.93861199999999,39.967166 L -87.938602,39.967126 L -87.938577,39.966896999999996 L -87.938563,39.966535 L -87.938549,39.965163 L -87.938548,39.963446999999995 L -87.938538,39.962129 L -87.938512,39.96008 L -87.938503,39.958805 L -87.938456,39.955193 L -87.938429,39.952644 L -87.93842699999999,39.952562 L -87.93842699999999,39.952490999999995 L -87.938423,39.952145 L -87.93841499999999,39.951949 L -87.938411,39.951119 L -87.938383,39.948952 L -87.938355,39.945178999999996 L -87.93835399999999,39.945149 L -87.938332,39.942569 L -87.938329,39.941328 L -87.9383,39.937912999999995 L -87.938299,39.937829 L -87.93826899999999,39.934225999999995 L -87.938254,39.932504 L -87.938176,39.926185 L -87.938125,39.923365 L -87.938082,39.919748 L -87.938081,39.919644999999996 L -87.938058,39.917756 L -87.938051,39.91715 L -87.938058,39.916087 L -87.938058,39.916050999999996 L -87.93805499999999,39.914536 L -87.938058,39.914187999999996 L -87.938046,39.913458999999996 L -87.938046,39.913444 L -87.938031,39.912365 L -87.938028,39.912043 L -87.938008,39.911259 L -87.938008,39.911246999999996 L -87.938006,39.910250999999995 L -87.938006,39.910199 L -87.93800499999999,39.909718 L -87.937968,39.909208 L -87.937967,39.909186999999996 L -87.937963,39.909078 L -87.937951,39.908936 L -87.937939,39.908795999999995 L -87.937952,39.908528 L -87.93795,39.90797 L -87.937963,39.907762 L -87.93793099999999,39.906678 L -87.937908,39.905014 L -87.937896,39.903991 L -87.93788599999999,39.903064 L -87.937812,39.896280999999995 L -87.937812,39.896263999999995 L -87.93779099999999,39.894359 L -87.937794,39.89416 L -87.93764499999999,39.879802999999995 L -87.937826,39.879805999999995 L -87.941271,39.879779 L -87.94358299999999,39.879779 L -87.949007,39.879766 L -87.951785,39.879751 L -87.952826,39.879751 L -87.95508,39.879739 L -87.956532,39.879723999999996 L -87.957027,39.879712 L -87.959831,39.879692999999996 L -87.964777,39.879652 L -87.96580399999999,39.879638 L -87.96582699999999,39.879638 L -87.96633399999999,39.87963 L -87.970053,39.879605 L -87.971026,39.87959 L -87.972579,39.879577 L -87.978235,39.879549 L -87.97892399999999,39.879546999999995 L -87.989469,39.879509999999996 L -87.992801,39.879493 L -87.994411,39.879478 L -87.996681,39.879467 L -88.000039,39.879452 L -88.00815,39.879432 L -88.00948799999999,39.879432 L -88.01425499999999,39.879461 L -88.027903,39.879563999999995 L -88.02818099999999,39.879566 L -88.028274,39.879567 L -88.04155899999999,39.879673 L -88.046565,39.879706 L -88.04720999999999,39.879704 L -88.054492,39.87976 L -88.05484799999999,39.87977 L -88.055291,39.879777 L -88.055652,39.879788999999995 L -88.056264,39.879802999999995 L -88.056557,39.879805999999995 L -88.058798,39.879826 L -88.05958199999999,39.879827999999996 L -88.063724,39.879855 L -88.06429,39.879866 L -88.064809,39.879861999999996 L -88.065711,39.879864 L -88.065992,39.879856 L -88.066206,39.879855 L -88.067106,39.879867999999995 L -88.067945,39.879872999999996 L -88.068683,39.879881999999995 L -88.069717,39.879888 L -88.070433,39.879898 L -88.07067099999999,39.879895 L -88.07073899999999,39.879894 L -88.070967,39.879892 L -88.07233099999999,39.879886 L -88.073348,39.879902 L -88.078913,39.879939 L -88.082501,39.879975 L -88.082692,39.879984 L -88.082875,39.879992 L -88.084104,39.879978 L -88.08488799999999,39.879974 L -88.087639,39.880002999999995 L -88.09150199999999,39.880033 L -88.09644,39.88008 L -88.096463,39.880081 L -88.09741,39.880089999999996 L -88.098693,39.880085 L -88.102299,39.880109 L -88.103746,39.880117 L -88.106189,39.880126 L -88.114071,39.880179999999996 L -88.11597499999999,39.880187 L -88.120902,39.880221 L -88.122326,39.880227 L -88.122569,39.880224999999996 L -88.12270000000001,39.880223 L -88.122816,39.880221999999996 L -88.12499299999999,39.880206 L -88.125042,39.880204 L -88.125124,39.880204 L -88.12521699999999,39.880203 L -88.126083,39.880193999999996 L -88.12814399999999,39.880176999999996 L -88.130144,39.880156 L -88.132165,39.880134 L -88.134081,39.880116 L -88.135286,39.8801 L -88.135716,39.8801 L -88.137553,39.880075999999995 L -88.13897999999999,39.880055999999996 L -88.13954,39.880049 L -88.13998699999999,39.880046 L -88.14041499999999,39.880043 L -88.14078099999999,39.88003 L -88.14137,39.880018 L -88.142085,39.880033 L -88.142865,39.880026 L -88.143329,39.880021 L -88.14385999999999,39.880022 L -88.143968,39.880015 L -88.14506399999999,39.880023 L -88.145213,39.880022 L -88.147414,39.880008 L -88.15102399999999,39.87996 L -88.152613,39.879957999999995 L -88.154477,39.879948 L -88.156452,39.879942 L -88.156509,39.879940999999995 L -88.156561,39.879937 L -88.157934,39.879934 L -88.15891599999999,39.879934 L -88.15900599999999,39.879934 L -88.159061,39.879934 L -88.15907399999999,39.879934 L -88.159763,39.879931 L -88.159818,39.879931 L -88.160489,39.879929 L -88.161883,39.879906 L -88.16275999999999,39.879892 L -88.165354,39.879864999999995 L -88.16774199999999,39.879842 L -88.168183,39.879836 L -88.16997099999999,39.879813999999996 L -88.176328,39.879749 L -88.176542,39.879746 L -88.17659599999999,39.879746 L -88.17668499999999,39.879745 L -88.176756,39.879745 L -88.176827,39.879743999999995 L -88.17687099999999,39.879743999999995 L -88.177342,39.879740999999996 L -88.179355,39.879726999999995 L -88.17938099999999,39.879715999999995 L -88.181286,39.87969 L -88.181299,39.87969 L -88.18232599999999,39.879691 L -88.183683,39.879675 L -88.186499,39.879645 L -88.188453,39.879625 L -88.190809,39.879594 L -88.1937,39.879569 L -88.19564299999999,39.879543999999996 L -88.198352,39.879518 L -88.201803,39.879487 L -88.201864,39.879486 L -88.20593,39.879449 L -88.211638,39.87939 L -88.217249,39.879345 L -88.218903,39.879318 L -88.225528,39.879233 L -88.236361,39.879115 L -88.236583,39.879109 L -88.240276,39.8791 L -88.243371,39.879101999999996 L -88.245282,39.879112 L -88.24968899999999,39.879121999999995 L -88.24977299999999,39.879121999999995 L -88.24979499999999,39.879121999999995 L -88.249873,39.879121999999995 L -88.251505,39.879124999999995 L -88.254843,39.879123 L -88.25505199999999,39.879123 L -88.25524899999999,39.879123 L -88.25902599999999,39.879138 L -88.261057,39.879132999999996 L -88.26131099999999,39.879132 L -88.26149699999999,39.879131 L -88.261713,39.879134 L -88.262654,39.879145 L -88.26431699999999,39.879149999999996 L -88.26517899999999,39.879166 L -88.26549299999999,39.879165 L -88.265659,39.879159 L -88.265873,39.879154 L -88.26587699999999,39.879163 L -88.26602799999999,39.879163 L -88.26656299999999,39.879160999999996 L -88.267004,39.879158 L -88.273051,39.879169999999995 L -88.27376799999999,39.879162 L -88.273923,39.87916 L -88.274114,39.879157 L -88.27437499999999,39.879154 L -88.274424,39.879152999999995 L -88.276033,39.879158 L -88.277737,39.879173 L -88.278719,39.879177999999996 L -88.29171699999999,39.879241 L -88.2921,39.879242999999995 L -88.292716,39.879239999999996 L -88.29334999999999,39.87925 L -88.29529699999999,39.879256999999996 L -88.29799,39.879255 L -88.298014,39.879255 L -88.298502,39.879247 L -88.303455,39.879252 L -88.303707,39.879253999999996 L -88.30400399999999,39.879256 L -88.305488,39.879267999999996 L -88.305504,39.879266 L -88.306643,39.879276999999995 L -88.30788199999999,39.879279 L -88.30907499999999,39.879287 L -88.31011,39.879287999999995 L -88.310592,39.879289 L -88.311883,39.879301 L -88.316301,39.879312 L -88.32098599999999,39.879304 L -88.321024,39.879304 L -88.325947,39.879321999999995 L -88.327581,39.879337 L -88.330742,39.879351 L -88.332878,39.879356 L -88.333736,39.879363999999995 L -88.33422,39.87937 L -88.33442199999999,39.87937 L -88.335584,39.879374 L -88.33603699999999,39.879376 L -88.344421,39.879432 L -88.34567799999999,39.879435 L -88.345822,39.879436 L -88.34638,39.879439 L -88.34868,39.879452 L -88.349187,39.879450999999996 L -88.351929,39.879448 L -88.35354099999999,39.879435 L -88.355496,39.879433999999996 L -88.356612,39.879422 L -88.35786999999999,39.879419 L -88.358845,39.879419 L -88.35887199999999,39.879419999999996 L -88.36020599999999,39.879411 L -88.361717,39.879408 L -88.36420000000001,39.879388999999996 L -88.364232,39.879388999999996 L -88.36426399999999,39.879388 L -88.364369,39.879388 L -88.364409,39.879387 L -88.364514,39.879387 L -88.36454599999999,39.879386 L -88.36465799999999,39.879386 L -88.368021,39.87937 L -88.36817599999999,39.879374 L -88.36842399999999,39.879368 L -88.371529,39.879343999999996 L -88.373088,39.879332999999995 L -88.374887,39.87931 L -88.376554,39.879304 L -88.376643,39.879304 L -88.37667599999999,39.879304 L -88.37673099999999,39.879304 L -88.379071,39.879296 L -88.38257999999999,39.879273 L -88.383399,39.879266 L -88.38453899999999,39.879264 L -88.387034,39.879239999999996 L -88.388994,39.879249 L -88.390654,39.879252 L -88.392271,39.879253 L -88.393776,39.879252 L -88.394928,39.879251 L -88.39629099999999,39.879242999999995 L -88.396526,39.879241 L -88.396766,39.879242 L -88.396785,39.879242 L -88.403718,39.879256999999996 L -88.406105,39.879235 L -88.406308,39.879233 L -88.40632,39.879231999999995 L -88.40780199999999,39.879213 L -88.41380699999999,39.879228999999995 L -88.41382,39.879228999999995 L -88.415374,39.879224 L -88.41994,39.879216 L -88.42033599999999,39.879216 L -88.42438899999999,39.879214 L -88.425094,39.87921 L -88.430368,39.879191999999996 L -88.433042,39.879174 L -88.434495,39.879166999999995 L -88.437505,39.879158 L -88.43865,39.879146 L -88.43969799999999,39.879155 L -88.442334,39.879149999999996 L -88.443179,39.879158 L -88.44416,39.879159 L -88.44509,39.879149999999996 L -88.445201,39.879149 L -88.450529,39.879115999999996 L -88.451645,39.879118999999996 L -88.45481,39.879114 L -88.457211,39.879103 L -88.46220699999999,39.879092 L -88.462206,39.879425 L -88.462204,39.880297999999996 L -88.462248,39.888596 L -88.46225,39.889022 L -88.46225,39.889401 L -88.462251,39.889415 L -88.46227499999999,39.893764999999995 L -88.462272,39.894036 L -88.46228099999999,39.89504 L -88.462294,39.898588 L -88.462316,39.902705999999995 L -88.462334,39.907408 L -88.462334,39.908336 L -88.46234799999999,39.909473 L -88.462352,39.909817 L -88.462414,39.922387 L -88.462423,39.92304 L -88.462435,39.926472 L -88.462462,39.931506 L -88.46246699999999,39.933872 L -88.462459,39.93408 L -88.462479,39.937644 L -88.46249399999999,39.940723999999996 L -88.4625,39.941807 L -88.462505,39.942893999999995 L -88.46256699999999,39.944302 L -88.46256699999999,39.944376 L -88.462564,39.948963 L -88.46258399999999,39.951209 L -88.462526,39.952411999999995 L -88.46255,39.952622999999996 L -88.46256199999999,39.954971 L -88.46256799999999,39.955087 L -88.462597,39.958343 L -88.46261799999999,39.962272999999996 L -88.46261799999999,39.963099 L -88.462617,39.964090999999996 L -88.46262399999999,39.965408 L -88.46264699999999,39.967088 L -88.46264099999999,39.968281999999995 L -88.462655,39.972570999999995 L -88.46269,39.974402999999995 L -88.46269099999999,39.974454 L -88.462694,39.974585999999995 L -88.46269099999999,39.975176 L -88.462701,39.978061 L -88.462732,39.980664 L -88.462729,39.981632999999995 L -88.462741,39.981704 L -88.462741,39.981791 L -88.46274799999999,39.983889 L -88.462762,39.986286 L -88.462766,39.991416 L -88.462766,39.991453 L -88.462777,39.994447 L -88.46279,39.996043 L -88.462769,39.996164 L -88.462744,39.996237 L -88.46272599999999,39.996269999999996 L -88.462718,40.000032 L -88.46296699999999,40.010948 L -88.462966,40.025532999999996 L -88.462972,40.025638 L -88.46297,40.025662 L -88.46296199999999,40.025878 L -88.462969,40.026685 L -88.462971,40.029275 L -88.46298499999999,40.030696999999996 L -88.462986,40.030798 L -88.462989,40.031571 L -88.46298,40.034248 L -88.46298999999999,40.036958999999996 L -88.462991,40.039131 L -88.462992,40.040079999999996 L -88.46300099999999,40.040318 L -88.46300099999999,40.040549 L -88.463003,40.047675999999996 L -88.463003,40.047731999999996 L -88.463011,40.051803 L -88.463021,40.053298 L -88.46302,40.055029999999995 L -88.463047,40.063452999999996 L -88.46306799999999,40.069517 L -88.463065,40.070799 L -88.46307399999999,40.071584 L -88.463073,40.073463 L -88.46308499999999,40.076854999999995 L -88.46307399999999,40.079981 L -88.46307399999999,40.080303 L -88.46307499999999,40.080313 L -88.463076,40.080521 L -88.46310199999999,40.081371999999995 L -88.463098,40.082906 L -88.463104,40.083483 L -88.463104,40.083515999999996 L -88.46310799999999,40.084047 L -88.46311,40.086740999999996 L -88.46310199999999,40.087562 L -88.46310199999999,40.087575 L -88.463098,40.087924 L -88.463138,40.096053 L -88.46314,40.098569999999995 L -88.46318099999999,40.102488 L -88.463186,40.103595999999996 L -88.463213,40.10641 L -88.463216,40.106646 L -88.463217,40.106715 L -88.463218,40.106803 L -88.463223,40.10686 L -88.463241,40.112255999999995 L -88.463244,40.112584 L -88.463245,40.112724 L -88.46324899999999,40.113192 L -88.46327199999999,40.116791 L -88.46328799999999,40.119509 L -88.463291,40.119945 L -88.463301,40.120205999999996 L -88.46331599999999,40.120384 L -88.463308,40.120557 L -88.46330499999999,40.120567 L -88.46329899999999,40.121215 L -88.46331099999999,40.121911999999995 L -88.46334499999999,40.123289 L -88.463352,40.124618999999996 L -88.46336199999999,40.124898 L -88.463359,40.12656 L -88.46336699999999,40.12789 L -88.46336,40.128504 L -88.463326,40.131584 L -88.46332,40.132791999999995 L -88.463276,40.134977 L -88.463275,40.135011999999996 L -88.463275,40.13503 L -88.463247,40.135053 L -88.463275,40.135059999999996 L -88.46327699999999,40.135752 L -88.463276,40.135926999999995 L -88.463276,40.135982999999996 L -88.46327199999999,40.136582 L -88.463262,40.137074999999996 L -88.463261,40.137163 L -88.46325499999999,40.137464 L -88.463259,40.137964 L -88.46325999999999,40.13809 L -88.463261,40.138235 L -88.463256,40.138526999999996 L -88.463251,40.138781 L -88.463246,40.139035 L -88.46324299999999,40.1392 L -88.46322599999999,40.140828 L -88.463234,40.141452 L -88.463236,40.141552999999995 L -88.46323,40.14207 L -88.463218,40.142134999999996 L -88.463189,40.142182999999996 L -88.463174,40.142196 z\" /></g></svg>"
      ],
      "text/plain": [
       "<shapely.geometry.polygon.Polygon at 0x11fef2b38>"
      ]
     },
     "execution_count": 52,
     "metadata": {},
     "output_type": "execute_result"
    }
   ],
   "source": [
    "champaign_entry['geometry']    # Jupyter is capable of visualizing polygons automatically"
   ]
  },
  {
   "cell_type": "markdown",
   "metadata": {},
   "source": [
    "You can apply a number of geometric operations on this shape (which is implemented as a Shapely geometry, so you can find more details reading Shapely documentation). For example:"
   ]
  },
  {
   "cell_type": "code",
   "execution_count": 74,
   "metadata": {},
   "outputs": [
    {
     "name": "stdout",
     "output_type": "stream",
     "text": [
      "Area: 0.27\n",
      "Centroid: POINT (-88.19919185164987 40.14008385022409)\n",
      "The centroid of the polygon is within the polygon: True\n",
      "Equivalently, the polygon contains the centroid of itself: True\n",
      "The polygon is essentially an ordered list of points. The first point is: (-88.463174, 40.142196)\n"
     ]
    }
   ],
   "source": [
    "print('Area: %.2f' % champaign_entry['geometry'].area)\n",
    "print('Centroid: %s' % str(champaign_entry['geometry'].centroid))\n",
    "print('The centroid of the polygon is within the polygon:',\n",
    "          champaign_entry['geometry'].centroid.within(champaign_entry['geometry']))\n",
    "print('Equivalently, the polygon contains the centroid of itself:',\n",
    "          champaign_entry['geometry'].contains(champaign_entry['geometry'].centroid))\n",
    "print('The polygon is essentially an ordered list of points. The first point is:',\n",
    "          champaign_entry['geometry'].exterior.coords[0])"
   ]
  },
  {
   "cell_type": "markdown",
   "metadata": {},
   "source": [
    "To save a vector GeoDataFrame to file, simply do the following:"
   ]
  },
  {
   "cell_type": "code",
   "execution_count": 55,
   "metadata": {},
   "outputs": [
    {
     "name": "stderr",
     "output_type": "stream",
     "text": [
      "/anaconda3/lib/python3.7/site-packages/geopandas/io/file.py:108: FionaDeprecationWarning: Use fiona.Env() instead.\n",
      "  with fiona.drivers():\n"
     ]
    }
   ],
   "source": [
    "target_path = './data/tl_2017_us_county.shp'    # replace this with the actual path\n",
    "ds.to_file(target_path)"
   ]
  },
  {
   "cell_type": "markdown",
   "metadata": {},
   "source": [
    "The syntax of GeoPandas is almost identical to that of Pandas. If you are not familiar with Pandas, please refer to the [10 Minutes to Pandas tutorial](https://pandas.pydata.org/pandas-docs/stable/getting_started/10min.html)."
   ]
  },
  {
   "cell_type": "markdown",
   "metadata": {},
   "source": [
    "**Note on GeoPackage**: one of the few advantages of ESRI Shapefile over GeoPackage is that ESRI allows the entries to have different geometry types—GeoPackage doesn't. For example, in this datasets, most counties are polygon, but some of them are multipolygon (a group of polygons), as some counties next to lakes or oceans may have islands in them. If you want to save it as `.gpkg` file, you will have to either drop the smaller parts of each county, or convert all polygons to multipolygons."
   ]
  },
  {
   "cell_type": "markdown",
   "metadata": {},
   "source": [
    "## Data interoperability\n",
    "### Reprojection\n",
    "\n",
    "### Clipping"
   ]
  },
  {
   "cell_type": "markdown",
   "metadata": {},
   "source": [
    "## Visualization\n",
    "### Visualization with QGIS\n",
    "\n",
    "### Visualization with GeoPandas\n",
    "\n",
    "### Visualization with Matplotlib\n",
    "You may find the [Basemap](https://matplotlib.org/basemap/) tookit of Matplotlib useful if you want to stick with Matplotlib."
   ]
  },
  {
   "cell_type": "markdown",
   "metadata": {},
   "source": [
    "## Examples\n",
    "### Generating US state-level precipitation map"
   ]
  },
  {
   "cell_type": "code",
   "execution_count": null,
   "metadata": {},
   "outputs": [],
   "source": []
  }
 ],
 "metadata": {
  "kernelspec": {
   "display_name": "Python 3",
   "language": "python",
   "name": "python3"
  },
  "language_info": {
   "codemirror_mode": {
    "name": "ipython",
    "version": 3
   },
   "file_extension": ".py",
   "mimetype": "text/x-python",
   "name": "python",
   "nbconvert_exporter": "python",
   "pygments_lexer": "ipython3",
   "version": "3.7.2"
  }
 },
 "nbformat": 4,
 "nbformat_minor": 2
}
